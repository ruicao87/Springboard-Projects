{
 "cells": [
  {
   "cell_type": "code",
   "execution_count": 1,
   "metadata": {},
   "outputs": [],
   "source": [
    "import requests"
   ]
  },
  {
   "cell_type": "code",
   "execution_count": 41,
   "metadata": {},
   "outputs": [],
   "source": [
    "r = requests.get('https://www.quandl.com/api/v3/datasets/FSE/AFX_X.json?api_key=vsNyY_XU7yP5uYvzwyAS&start_date=2019-09-03')"
   ]
  },
  {
   "cell_type": "code",
   "execution_count": 45,
   "metadata": {},
   "outputs": [
    {
     "name": "stdout",
     "output_type": "stream",
     "text": [
      "{'dataset': {'id': 10095370, 'dataset_code': 'AFX_X', 'database_code': 'FSE', 'name': 'Carl Zeiss Meditec (AFX_X)', 'description': 'Stock Prices for Carl Zeiss Meditec (2019-08-20) from the Frankfurt Stock Exchange.<br><br>Trading System: Xetra<br><br>ISIN: DE0005313704', 'refreshed_at': '2019-09-03T22:18:47.048Z', 'newest_available_date': '2019-09-03', 'oldest_available_date': '2000-06-07', 'column_names': ['Date', 'Open', 'High', 'Low', 'Close', 'Change', 'Traded Volume', 'Turnover', 'Last Price of the Day', 'Daily Traded Units', 'Daily Turnover'], 'frequency': 'daily', 'type': 'Time Series', 'premium': False, 'limit': None, 'transform': None, 'column_index': None, 'start_date': '2019-09-03', 'end_date': '2019-09-03', 'data': [['2019-09-03', 107.4, 107.7, 105.9, 107.0, None, 105012.0, 11237644.0, None, None, None]], 'collapse': None, 'order': None, 'database_id': 6129}}\n",
      "[['2019-09-03', 107.4, 107.7, 105.9, 107.0, None, 105012.0, 11237644.0, None, None, None]]\n"
     ]
    }
   ],
   "source": [
    "print(r.json())\n",
    "print(r.json()['dataset']['data'])"
   ]
  },
  {
   "cell_type": "code",
   "execution_count": 21,
   "metadata": {},
   "outputs": [],
   "source": [
    "#Collect data from the Franfurt Stock Exchange, for the ticker AFX_X, \n",
    "#for the whole year 2017 (keep in mind that the date format is YYYY-MM-DD)."
   ]
  },
  {
   "cell_type": "code",
   "execution_count": 2,
   "metadata": {},
   "outputs": [],
   "source": [
    "j= requests.get('https://www.quandl.com/api/v3/datasets/FSE/AFX_X.json?api_key=vsNyY_XU7yP5uYvzwyAS&start_date=2017-01-01&end_date=2017-12-31')"
   ]
  },
  {
   "cell_type": "code",
   "execution_count": 81,
   "metadata": {},
   "outputs": [],
   "source": [
    "# Convert the returned JSON object into a Python dictionary"
   ]
  },
  {
   "cell_type": "code",
   "execution_count": 3,
   "metadata": {},
   "outputs": [],
   "source": [
    "dict_2017 = j.json()"
   ]
  },
  {
   "cell_type": "code",
   "execution_count": null,
   "metadata": {},
   "outputs": [],
   "source": [
    "#Calculate what the highest and lowest opening prices were for the stock in this period"
   ]
  },
  {
   "cell_type": "code",
   "execution_count": 4,
   "metadata": {},
   "outputs": [],
   "source": [
    "data = dict_2017['dataset']['data']\n"
   ]
  },
  {
   "cell_type": "code",
   "execution_count": 11,
   "metadata": {},
   "outputs": [
    {
     "data": {
      "text/plain": [
       "34.0"
      ]
     },
     "execution_count": 11,
     "metadata": {},
     "output_type": "execute_result"
    }
   ],
   "source": [
    "opening_price = [item[1] for item in data if item[1] != None]\n",
    "opening_price.sort()\n",
    "max(opening_price)\n",
    "min(opening_price)"
   ]
  },
  {
   "cell_type": "code",
   "execution_count": 72,
   "metadata": {},
   "outputs": [],
   "source": [
    "# What was the largest change in any one day (based on High and Low price)?"
   ]
  },
  {
   "cell_type": "code",
   "execution_count": 106,
   "metadata": {},
   "outputs": [
    {
     "name": "stdout",
     "output_type": "stream",
     "text": [
      "the largest daily change is : 2.8100000000000023\n"
     ]
    }
   ],
   "source": [
    "daily_change = [item[2]-item[3] for item in data if (item[2] != None) and (item[3] != None)]\n",
    "daily_change.sort()\n",
    "print('the largest daily change is : '+ str(daily_change[-1]))"
   ]
  },
  {
   "cell_type": "code",
   "execution_count": 80,
   "metadata": {},
   "outputs": [],
   "source": [
    "# What was the largest change between any two days (based on Closing Price)?"
   ]
  },
  {
   "cell_type": "code",
   "execution_count": 119,
   "metadata": {},
   "outputs": [
    {
     "name": "stdout",
     "output_type": "stream",
     "text": [
      "the largest change between any two days is : 2.559999999999995\n"
     ]
    }
   ],
   "source": [
    "twodays_change =[data[i][4]-data[i-1][4] for i in range(1,len(data)) if (data[i][4]!=None) and(data[i-1][4]!=None)]\n",
    "twodays_change.sort()\n",
    "print('the largest change between any two days is : '+ str(twodays_change[-1]))"
   ]
  },
  {
   "cell_type": "code",
   "execution_count": 122,
   "metadata": {},
   "outputs": [
    {
     "name": "stdout",
     "output_type": "stream",
     "text": [
      "the average daily trading volume in 2017 is : 89124.33725490196\n"
     ]
    }
   ],
   "source": [
    "# What was the average daily trading volume during this year?\n",
    "\n",
    "traded_volume =[item[6] for item in data if item[6]!=None ]\n",
    "daily_tradvolume = sum(traded_volume)/len(traded_volume)\n",
    "print('the average daily trading volume in 2017 is : '+str(daily_tradvolume))"
   ]
  },
  {
   "cell_type": "code",
   "execution_count": 128,
   "metadata": {},
   "outputs": [
    {
     "name": "stdout",
     "output_type": "stream",
     "text": [
      "the median trading volume in 2017 is : 76286.0\n"
     ]
    }
   ],
   "source": [
    "# What was the median trading volume during this year. \n",
    "#(Note: you may need to implement your own function for calculating the median.)\n",
    "\n",
    "def getmedian(list):\n",
    "    median_number = len(list)//2\n",
    "    (list).sort()\n",
    "    median = list[median_number]\n",
    "    return median\n",
    "meidan_tradvolume = getmedian(traded_volume)\n",
    "print('the median trading volume in 2017 is : '+str(meidan_tradvolume))"
   ]
  },
  {
   "cell_type": "code",
   "execution_count": null,
   "metadata": {},
   "outputs": [],
   "source": []
  },
  {
   "cell_type": "code",
   "execution_count": null,
   "metadata": {},
   "outputs": [],
   "source": []
  },
  {
   "cell_type": "code",
   "execution_count": null,
   "metadata": {},
   "outputs": [],
   "source": []
  },
  {
   "cell_type": "code",
   "execution_count": null,
   "metadata": {},
   "outputs": [],
   "source": []
  },
  {
   "cell_type": "code",
   "execution_count": null,
   "metadata": {},
   "outputs": [],
   "source": []
  }
 ],
 "metadata": {
  "kernelspec": {
   "display_name": "Python 3",
   "language": "python",
   "name": "python3"
  },
  "language_info": {
   "codemirror_mode": {
    "name": "ipython",
    "version": 3
   },
   "file_extension": ".py",
   "mimetype": "text/x-python",
   "name": "python",
   "nbconvert_exporter": "python",
   "pygments_lexer": "ipython3",
   "version": "3.7.3"
  }
 },
 "nbformat": 4,
 "nbformat_minor": 2
}
