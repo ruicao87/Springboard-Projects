{
 "cells": [
  {
   "cell_type": "markdown",
   "metadata": {},
   "source": [
    "This exercise will require you to pull some data from the Qunadl API. Qaundl is currently the most widely used aggregator of financial market data."
   ]
  },
  {
   "cell_type": "markdown",
   "metadata": {},
   "source": [
    "As a first step, you will need to register a free account on the http://www.quandl.com website."
   ]
  },
  {
   "cell_type": "markdown",
   "metadata": {},
   "source": [
    "After you register, you will be provided with a unique API key, that you should store:"
   ]
  },
  {
   "cell_type": "code",
   "execution_count": 1,
   "metadata": {},
   "outputs": [],
   "source": [
    "# Store the API key as a string - according to PEP8, constants are always named in all upper case\n",
    "API_KEY = ''"
   ]
  },
  {
   "cell_type": "markdown",
   "metadata": {},
   "source": [
    "Qaundl has a large number of data sources, but, unfortunately, most of them require a Premium subscription. Still, there are also a good number of free datasets."
   ]
  },
  {
   "cell_type": "markdown",
   "metadata": {},
   "source": [
    "For this mini project, we will focus on equities data from the Frankfurt Stock Exhange (FSE), which is available for free. We'll try and analyze the stock prices of a company called Carl Zeiss Meditec, which manufactures tools for eye examinations, as well as medical lasers for laser eye surgery: https://www.zeiss.com/meditec/int/home.html. The company is listed under the stock ticker AFX_X."
   ]
  },
  {
   "cell_type": "markdown",
   "metadata": {},
   "source": [
    "You can find the detailed Quandl API instructions here: https://docs.quandl.com/docs/time-series"
   ]
  },
  {
   "cell_type": "markdown",
   "metadata": {},
   "source": [
    "While there is a dedicated Python package for connecting to the Quandl API, we would prefer that you use the *requests* package, which can be easily downloaded using *pip* or *conda*. You can find the documentation for the package here: http://docs.python-requests.org/en/master/ "
   ]
  },
  {
   "cell_type": "markdown",
   "metadata": {},
   "source": [
    "Finally, apart from the *requests* package, you are encouraged to not use any third party Python packages, such as *pandas*, and instead focus on what's available in the Python Standard Library (the *collections* module might come in handy: https://pymotw.com/3/collections/ ).\n",
    "Also, since you won't have access to DataFrames, you are encouraged to us Python's native data structures - preferably dictionaries, though some questions can also be answered using lists.\n",
    "You can read more on these data structures here: https://docs.python.org/3/tutorial/datastructures.html"
   ]
  },
  {
   "cell_type": "markdown",
   "metadata": {},
   "source": [
    "Keep in mind that the JSON responses you will be getting from the API map almost one-to-one to Python's dictionaries. Unfortunately, they can be very nested, so make sure you read up on indexing dictionaries in the documentation provided above."
   ]
  },
  {
   "cell_type": "code",
   "execution_count": 1,
   "metadata": {},
   "outputs": [],
   "source": [
    "# First, import the relevant modules\n",
    "import requests"
   ]
  },
  {
   "cell_type": "code",
   "execution_count": 2,
   "metadata": {},
   "outputs": [],
   "source": [
    "# Now, call the Quandl API and pull out a small sample of the data (only one day) to get a glimpse\n",
    "# into the JSON structure that will be returned\n",
    "r = requests.get('https://www.quandl.com/api/v3/datasets/FSE/AFX_X.json?api_key=API_KEY&start_date=2019-09-03')"
   ]
  },
  {
   "cell_type": "code",
   "execution_count": 3,
   "metadata": {},
   "outputs": [
    {
     "name": "stdout",
     "output_type": "stream",
     "text": [
      "{'dataset': {'id': 10095370, 'dataset_code': 'AFX_X', 'database_code': 'FSE', 'name': 'Carl Zeiss Meditec (AFX_X)', 'description': 'Stock Prices for Carl Zeiss Meditec (2019-08-21) from the Frankfurt Stock Exchange.<br><br>Trading System: Xetra<br><br>ISIN: DE0005313704', 'refreshed_at': '2019-09-04T22:42:34.487Z', 'newest_available_date': '2019-09-04', 'oldest_available_date': '2000-06-07', 'column_names': ['Date', 'Open', 'High', 'Low', 'Close', 'Change', 'Traded Volume', 'Turnover', 'Last Price of the Day', 'Daily Traded Units', 'Daily Turnover'], 'frequency': 'daily', 'type': 'Time Series', 'premium': False, 'limit': None, 'transform': None, 'column_index': None, 'start_date': '2019-09-03', 'end_date': '2019-09-04', 'data': [['2019-09-04', 107.4, 109.1, 107.1, 108.3, None, 94641.0, 10247516.0, None, None, None], ['2019-09-03', 107.4, 107.7, 105.9, 107.0, None, 105012.0, 11237644.0, None, None, None]], 'collapse': None, 'order': None, 'database_id': 6129}}\n"
     ]
    }
   ],
   "source": [
    "# Inspect the JSON structure of the object you created, and take note of how nested it is,\n",
    "# as well as the overall structure\n",
    "print(r.json())"
   ]
  },
  {
   "cell_type": "markdown",
   "metadata": {},
   "source": [
    "These are your tasks for this mini project:\n",
    "\n",
    "1. Collect data from the Franfurt Stock Exchange, for the ticker AFX_X, for the whole year 2017 (keep in mind that the date format is YYYY-MM-DD).\n",
    "2. Convert the returned JSON object into a Python dictionary.\n",
    "3. Calculate what the highest and lowest opening prices were for the stock in this period.\n",
    "4. What was the largest change in any one day (based on High and Low price)?\n",
    "5. What was the largest change between any two days (based on Closing Price)?\n",
    "6. What was the average daily trading volume during this year?\n",
    "7. (Optional) What was the median trading volume during this year. (Note: you may need to implement your own function for calculating the median.)"
   ]
  },
  {
   "cell_type": "code",
   "execution_count": 4,
   "metadata": {},
   "outputs": [],
   "source": [
    "# Collect data for the whole year 2017\n",
    "\n",
    "j = requests.get('https://www.quandl.com/api/v3/datasets/FSE/AFX_X.json?api_key=API_KEY&start_date=2017-01-01&end_date=2017-12-31')"
   ]
  },
  {
   "cell_type": "code",
   "execution_count": 5,
   "metadata": {},
   "outputs": [],
   "source": [
    "# Convert the returned JSON object into a Python dictionary\n",
    "\n",
    "dict_2017 = j.json()"
   ]
  },
  {
   "cell_type": "code",
   "execution_count": 6,
   "metadata": {},
   "outputs": [
    {
     "name": "stdout",
     "output_type": "stream",
     "text": [
      "the highest opening price in 2017 is : 53.11\n",
      "the lowest opening price in 2017 is : 34.0\n"
     ]
    }
   ],
   "source": [
    "# Calculate what the highest and lowest opening prices were for the stock in this period\n",
    "\n",
    "data = dict_2017['dataset']['data']\n",
    "opening_price = [item[1] for item in data if item[1] != None]\n",
    "opening_price.sort()\n",
    "print('the highest opening price in 2017 is : '+ str(max(opening_price)))\n",
    "print('the lowest opening price in 2017 is : '+ str(min(opening_price)))"
   ]
  },
  {
   "cell_type": "code",
   "execution_count": 8,
   "metadata": {},
   "outputs": [
    {
     "name": "stdout",
     "output_type": "stream",
     "text": [
      "the largest daily change in 2017 is : 2.8100000000000023\n"
     ]
    }
   ],
   "source": [
    "# What was the largest change in any one day (based on High and Low price)?\n",
    "\n",
    "daily_change = [item[2]-item[3] for item in data if (item[2] != None) and (item[3] != None)]\n",
    "daily_change.sort()\n",
    "print('the largest daily change in 2017 is : '+ str(max(daily_change)))"
   ]
  },
  {
   "cell_type": "code",
   "execution_count": 9,
   "metadata": {},
   "outputs": [
    {
     "name": "stdout",
     "output_type": "stream",
     "text": [
      "the largest change between any two days in 2017 is : 2.559999999999995\n"
     ]
    }
   ],
   "source": [
    "# What was the largest change between any two days (based on Closing Price)?\n",
    "\n",
    "twodays_change =[data[i][4]-data[i-1][4] for i in range(1,len(data)) if (data[i][4]!=None) and(data[i-1][4]!=None)]\n",
    "twodays_change.sort()\n",
    "print('the largest change between any two days in 2017 is : '+ str(max(twodays_change)))"
   ]
  },
  {
   "cell_type": "code",
   "execution_count": 9,
   "metadata": {},
   "outputs": [
    {
     "name": "stdout",
     "output_type": "stream",
     "text": [
      "the average daily trading volume in 2017 is : 89124.33725490196\n"
     ]
    }
   ],
   "source": [
    "# What was the average daily trading volume during this year?\n",
    "\n",
    "traded_volume =[item[6] for item in data if item[6]!=None ]\n",
    "daily_tradvolume = sum(traded_volume)/len(traded_volume)\n",
    "print('the average daily trading volume in 2017 is : '+str(daily_tradvolume))\n"
   ]
  },
  {
   "cell_type": "code",
   "execution_count": 10,
   "metadata": {},
   "outputs": [
    {
     "name": "stdout",
     "output_type": "stream",
     "text": [
      "the median trading volume in 2017 is : 76286.0\n"
     ]
    }
   ],
   "source": [
    "# What was the median trading volume during this year. \n",
    "#(Note: you may need to implement your own function for calculating the median.)\n",
    "\n",
    "def getmedian(list):\n",
    "    median_number = len(list)//2\n",
    "    (list).sort()\n",
    "    median = list[median_number]\n",
    "    return median\n",
    "meidan_tradvolume = getmedian(traded_volume)\n",
    "print('the median trading volume in 2017 is : '+str(meidan_tradvolume))"
   ]
  }
 ],
 "metadata": {
  "kernelspec": {
   "display_name": "Python 3",
   "language": "python",
   "name": "python3"
  },
  "language_info": {
   "codemirror_mode": {
    "name": "ipython",
    "version": 3
   },
   "file_extension": ".py",
   "mimetype": "text/x-python",
   "name": "python",
   "nbconvert_exporter": "python",
   "pygments_lexer": "ipython3",
   "version": "3.7.3"
  }
 },
 "nbformat": 4,
 "nbformat_minor": 2
}
